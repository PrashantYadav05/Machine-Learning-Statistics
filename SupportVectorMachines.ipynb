{
 "cells": [
  {
   "cell_type": "code",
   "execution_count": 2,
   "id": "095f3bd2",
   "metadata": {},
   "outputs": [],
   "source": [
    "import pandas as pd\n",
    "from sklearn.model_selection import train_test_split\n",
    "from sklearn.svm import SVC\n",
    "\n",
    "from sklearn.metrics import accuracy_score, classification_report\n",
    "\n",
    "\n",
    "frame = pd.read_csv(\"C:\\\\Users\\\\talk2_000\\\\Desktop\\\\Python\\\\DatasetFiles\\\\LetterRecognition.csv\")\n",
    "\n",
    "x = frame.drop([\"letter\"], axis = 1)\n",
    "y = frame[\"letter\"]\n",
    "\n",
    "y = y.replace({\"A\":1, \"B\":2, \"C\":3, \"D\":4, \"E\":5, \"F\":6, \"G\":7, \"H\":8, \"I\":9, \"J\":10, \"K\":11, \"L\":12,\"M\":13, \"N\":14, \"O\":15, \"P\":16, \"Q\":17, \"R\":18, \"S\":19, \"T\":20, \"U\":21, \"V\":22, \"W\":23, \"X\":24, \"Y\":25, \"Z\":26})"
   ]
  },
  {
   "cell_type": "code",
   "execution_count": 3,
   "id": "108548f2",
   "metadata": {},
   "outputs": [],
   "source": [
    "xtrain, xtest, ytrain, ytest = train_test_split(x, y, train_size = 0.7, random_state = 42)\n",
    "\n",
    "s = SVC(kernel = \"linear\", C = 1.0, random_state = 43)\n",
    "s.fit(xtrain, ytrain)\n",
    "\n",
    "ytrain = pd.DataFrame(ytrain)\n",
    "ytest = pd.DataFrame(ytest)"
   ]
  },
  {
   "cell_type": "code",
   "execution_count": 4,
   "id": "5dcccf2b",
   "metadata": {},
   "outputs": [
    {
     "name": "stdout",
     "output_type": "stream",
     "text": [
      "\n",
      "SVM Linear Classifier - Train Confusion Matrix\n",
      "\n",
      " Predicted   1    2    3    4    5    6    7    8    9    10  ...   17   18  \\\n",
      "Actual                                                       ...             \n",
      "1          540    0    1    1    0    0    1    0    0    2  ...    0    2   \n",
      "2            1  484    0    2    2    0    8    4    0    1  ...    0   19   \n",
      "3            1    0  488    0   14    1    8    2    0    0  ...    0    0   \n",
      "4            0   20    0  510    0    1    1    6    0    0  ...    0    5   \n",
      "5            0    3    8    0  447    3   25    1    1    0  ...    4    4   \n",
      "6            1    2    0    5    6  503    4    2    0    5  ...    0    0   \n",
      "7            0    3   22   10    5    4  434    3    0    0  ...   11    7   \n",
      "8            0   13    9   30    0    7    4  368    1    4  ...    7   24   \n",
      "9            0    2    1    6    1   12    1    0  471   15  ...    0    0   \n",
      "10           5    0    0    5    0    1    0    3   21  467  ...    0    0   \n",
      "11           1    3    7    6    4    0    5    6    0    0  ...    2   25   \n",
      "12           2    0    6    2   14    0   11    3    1    0  ...    7    0   \n",
      "13           2    5    1    0    0    0    2    9    0    0  ...    0    1   \n",
      "14           2    2    0    7    0    0    0   11    0    0  ...    0    1   \n",
      "15           7    0    4   17    0    0    6   37    0    1  ...    9    7   \n",
      "16           0    1    0    3    0   33   11    0    0    1  ...    0    1   \n",
      "17           6    7    0    1   10    0   19    4    0    2  ...  445    0   \n",
      "18           4   16    0   11    1    1    8    8    0    0  ...    2  443   \n",
      "19           1   20    0    0   22   19   10    0   10    2  ...   10    3   \n",
      "20           0    0    0    1    7    6    7    5    0    0  ...    1    1   \n",
      "21           4    0    0    0    0    0    0   10    0    0  ...    0    0   \n",
      "22           3   10    0    0    0    0    3    2    0    0  ...    0    4   \n",
      "23           0    0    0    0    0    0    1    1    0    0  ...    0    0   \n",
      "24           0    2    0    3    6    1    3    3    8    5  ...    1    2   \n",
      "25           1    0    0    1    0    9    0    3    0    0  ...    6    0   \n",
      "26           1    0    0    0   11    1    0    0    1   18  ...    2    1   \n",
      "\n",
      "Predicted   19   20   21   22   23   24   25   26  \n",
      "Actual                                             \n",
      "1            0    0    2    0    0    0    4    0  \n",
      "2            6    0    0    3    0    3    0    0  \n",
      "3            0    0    1    0    0    0    0    0  \n",
      "4            0    1    1    0    0    0    0    0  \n",
      "5           10    5    0    0    0    5    0    4  \n",
      "6           11    9    0    0    0    1    2    0  \n",
      "7           10    0    0    9    2    1    0    0  \n",
      "8            0    2    5    3    0    4    0    0  \n",
      "9           12    0    0    0    0    7    0    4  \n",
      "10           6    0    0    0    0    3    0    6  \n",
      "11           0    1    2    1    1   16    0    0  \n",
      "12           4    0    0    0    0    6    0    0  \n",
      "13           0    0    5    0   11    0    0    0  \n",
      "14           0    0    2    4    1    0    0    0  \n",
      "15           0    0    3    1   13    1    0    0  \n",
      "16           0    0    0    0    0    0    8    0  \n",
      "17          17    0    0    2    1    0    1    4  \n",
      "18           0    1    0    0    0    1    0    0  \n",
      "19         375    4    0    0    0    4    0   24  \n",
      "20           4  508    1    0    0    3    6    8  \n",
      "21           0    2  518    0    3    0    0    0  \n",
      "22           0    1    0  487    7    0    8    0  \n",
      "23           0    0    2    4  513    0    0    0  \n",
      "24           3    4    2    0    0  480    1    1  \n",
      "25           1    9    1   13    1    2  486    0  \n",
      "26          43    3    0    0    0    1    0  439  \n",
      "\n",
      "[26 rows x 26 columns]\n"
     ]
    }
   ],
   "source": [
    "print(\"\\nSVM Linear Classifier - Train Confusion Matrix\\n\\n\", pd.crosstab(ytrain[\"letter\"], s.predict(xtrain), rownames = [\"Actual\"], colnames = [\"Predicted\"]))"
   ]
  },
  {
   "cell_type": "code",
   "execution_count": 5,
   "id": "e16572b7",
   "metadata": {},
   "outputs": [
    {
     "name": "stdout",
     "output_type": "stream",
     "text": [
      "\n",
      "SVM Linear Classifier - Train Accuracy:  0.876\n"
     ]
    }
   ],
   "source": [
    "print(\"\\nSVM Linear Classifier - Train Accuracy: \", round(accuracy_score(ytrain[\"letter\"], s.predict(xtrain)), 3))"
   ]
  },
  {
   "cell_type": "code",
   "execution_count": 6,
   "id": "12321468",
   "metadata": {},
   "outputs": [
    {
     "name": "stdout",
     "output_type": "stream",
     "text": [
      "\n",
      "SVM Linear Classifier - Train Classification Report\n",
      ":                precision    recall  f1-score   support\n",
      "\n",
      "           1       0.93      0.97      0.95       557\n",
      "           2       0.82      0.90      0.86       537\n",
      "           3       0.89      0.91      0.90       535\n",
      "           4       0.82      0.92      0.87       555\n",
      "           5       0.81      0.84      0.83       530\n",
      "           6       0.84      0.89      0.86       564\n",
      "           7       0.76      0.80      0.78       543\n",
      "           8       0.75      0.71      0.73       516\n",
      "           9       0.92      0.88      0.90       534\n",
      "          10       0.89      0.90      0.90       519\n",
      "          11       0.84      0.84      0.84       551\n",
      "          12       0.91      0.89      0.90       530\n",
      "          13       0.93      0.92      0.93       540\n",
      "          14       0.94      0.93      0.94       552\n",
      "          15       0.89      0.78      0.83       535\n",
      "          16       0.96      0.89      0.92       555\n",
      "          17       0.88      0.84      0.86       530\n",
      "          18       0.81      0.85      0.82       524\n",
      "          19       0.75      0.73      0.74       513\n",
      "          20       0.92      0.90      0.91       564\n",
      "          21       0.95      0.94      0.94       552\n",
      "          22       0.92      0.92      0.92       527\n",
      "          23       0.93      0.95      0.94       539\n",
      "          24       0.89      0.89      0.89       542\n",
      "          25       0.94      0.91      0.92       535\n",
      "          26       0.90      0.84      0.87       521\n",
      "\n",
      "    accuracy                           0.88     14000\n",
      "   macro avg       0.88      0.87      0.88     14000\n",
      "weighted avg       0.88      0.88      0.88     14000\n",
      "\n"
     ]
    }
   ],
   "source": [
    "print(\"\\nSVM Linear Classifier - Train Classification Report\\n: \", classification_report(ytrain[\"letter\"], s.predict(xtrain)))"
   ]
  },
  {
   "cell_type": "code",
   "execution_count": 7,
   "id": "552c942e",
   "metadata": {},
   "outputs": [
    {
     "name": "stdout",
     "output_type": "stream",
     "text": [
      "\n",
      "SVM Linear Classifier - Test Confusion Matrix\n",
      "\n",
      " Predicted   1    2    3    4    5    6    7    8    9    10  ...   17   18  \\\n",
      "Actual                                                       ...             \n",
      "1          218    1    1    1    0    0    0    0    0    5  ...    0    2   \n",
      "2            1  198    0    5    1    1    0    6    1    0  ...    0   10   \n",
      "3            0    0  172    0    5    0    7    3    0    0  ...    0    0   \n",
      "4            1   10    0  223    0    0    0    2    0    1  ...    0    1   \n",
      "5            0    1    4    0  209    0    8    0    0    0  ...    3    1   \n",
      "6            0    0    1    0    2  187    1    1    3    2  ...    0    0   \n",
      "7            1    1   11    5    2    1  172    1    0    0  ...   13    2   \n",
      "8            1    3    2   15    0    3    1  138    0    3  ...    3   21   \n",
      "9            0    0    0    5    0    3    1    0  188   10  ...    1    0   \n",
      "10           5    1    0    1    0    4    0    3   10  194  ...    0    0   \n",
      "11           0    1    3    4    4    0    2    1    0    0  ...    0   20   \n",
      "12           0    0    2    2    8    0    4    1    0    0  ...    4    1   \n",
      "13           2    2    0    0    0    0    0    1    0    0  ...    0    4   \n",
      "14           1    1    1    3    0    2    0    6    0    0  ...    0    1   \n",
      "15           4    0    1    7    0    0    2   17    0    1  ...    4    2   \n",
      "16           0    1    0    2    0   20    8    0    1    0  ...    0    0   \n",
      "17           4    5    1    5    9    0   13    2    0    1  ...  195    0   \n",
      "18           4    7    1    5    0    0    3    6    0    0  ...    0  193   \n",
      "19           1   11    0    1    8    1    7    0    6    1  ...    7    0   \n",
      "20           0    0    0    0    1    3    1    1    0    0  ...    0    2   \n",
      "21           2    0    0    1    0    0    1    3    0    0  ...    0    1   \n",
      "22           1    2    0    0    0    0    1    3    0    0  ...    0    0   \n",
      "23           0    0    0    0    0    0    1    1    0    0  ...    0    0   \n",
      "24           0    1    0    3    2    2    1    0    2    0  ...    0    1   \n",
      "25           2    0    0    1    0    4    0    1    0    0  ...    0    0   \n",
      "26           2    0    0    0    7    0    0    0    0   10  ...    1    0   \n",
      "\n",
      "Predicted   19   20   21   22   23   24   25   26  \n",
      "Actual                                             \n",
      "1            1    0    1    0    0    0    1    0  \n",
      "2            0    0    0    3    0    1    0    0  \n",
      "3            0    0    3    0    0    0    0    0  \n",
      "4            0    2    1    0    0    0    0    0  \n",
      "5            5    3    1    0    0    0    0    1  \n",
      "6            3    7    0    0    0    0    1    0  \n",
      "7            6    0    0    5    1    0    0    0  \n",
      "8            0    0    3    0    0    2    0    0  \n",
      "9            4    0    0    0    0    4    0    3  \n",
      "10           5    0    0    0    0    1    0    2  \n",
      "11           0    0    0    1    0    4    0    0  \n",
      "12           2    0    0    0    0    1    0    0  \n",
      "13           0    0    2    0    7    0    0    0  \n",
      "14           0    0    1    0    2    0    0    0  \n",
      "15           0    0    0    1    5    0    0    0  \n",
      "16           0    0    0    2    0    0    4    0  \n",
      "17          10    0    0    0    2    0    1    2  \n",
      "18           0    0    0    1    0    1    0    0  \n",
      "19         170    2    0    0    0    2    0   16  \n",
      "20           4  206    1    0    0    0    4    7  \n",
      "21           0    1  236    0    6    0    0    0  \n",
      "22           0    0    0  221    2    0    1    0  \n",
      "23           0    0    0    6  200    0    0    0  \n",
      "24           2    1    1    0    0  215    2    1  \n",
      "25           1    8    0    7    0    5  222    0  \n",
      "26          19    0    0    0    0    0    0  174  \n",
      "\n",
      "[26 rows x 26 columns]\n"
     ]
    }
   ],
   "source": [
    "print(\"\\nSVM Linear Classifier - Test Confusion Matrix\\n\\n\", pd.crosstab(ytest[\"letter\"], s.predict(xtest), rownames = [\"Actual\"], colnames = [\"Predicted\"]))"
   ]
  },
  {
   "cell_type": "code",
   "execution_count": 8,
   "id": "651f563f",
   "metadata": {},
   "outputs": [
    {
     "name": "stdout",
     "output_type": "stream",
     "text": [
      "\n",
      "SVM Linear Classifier - Test Accuracy:  0.85\n"
     ]
    }
   ],
   "source": [
    "print(\"\\nSVM Linear Classifier - Test Accuracy: \", round(accuracy_score(ytest[\"letter\"], s.predict(xtest)), 3))"
   ]
  },
  {
   "cell_type": "code",
   "execution_count": 9,
   "id": "ecc57c48",
   "metadata": {},
   "outputs": [
    {
     "name": "stdout",
     "output_type": "stream",
     "text": [
      "\n",
      "SVM Linear Classifier - Test Classification Report\n",
      ":                precision    recall  f1-score   support\n",
      "\n",
      "           1       0.87      0.94      0.90       232\n",
      "           2       0.80      0.86      0.83       229\n",
      "           3       0.86      0.86      0.86       201\n",
      "           4       0.77      0.89      0.83       250\n",
      "           5       0.81      0.88      0.84       238\n",
      "           6       0.81      0.89      0.85       211\n",
      "           7       0.74      0.75      0.74       230\n",
      "           8       0.70      0.63      0.67       218\n",
      "           9       0.89      0.85      0.87       221\n",
      "          10       0.85      0.85      0.85       228\n",
      "          11       0.77      0.79      0.78       188\n",
      "          12       0.93      0.88      0.90       231\n",
      "          13       0.95      0.93      0.94       252\n",
      "          14       0.91      0.90      0.91       231\n",
      "          15       0.86      0.79      0.82       218\n",
      "          16       0.97      0.83      0.89       248\n",
      "          17       0.84      0.77      0.81       253\n",
      "          18       0.74      0.82      0.78       234\n",
      "          19       0.73      0.72      0.73       235\n",
      "          20       0.90      0.89      0.89       232\n",
      "          21       0.94      0.90      0.92       261\n",
      "          22       0.89      0.93      0.91       237\n",
      "          23       0.89      0.94      0.91       213\n",
      "          24       0.91      0.88      0.89       245\n",
      "          25       0.94      0.88      0.91       251\n",
      "          26       0.84      0.82      0.83       213\n",
      "\n",
      "    accuracy                           0.85      6000\n",
      "   macro avg       0.85      0.85      0.85      6000\n",
      "weighted avg       0.85      0.85      0.85      6000\n",
      "\n"
     ]
    }
   ],
   "source": [
    "print(\"\\nSVM Linear Classifier - Test Classification Report\\n: \", classification_report(ytest[\"letter\"], s.predict(xtest)))"
   ]
  },
  {
   "cell_type": "code",
   "execution_count": 10,
   "id": "bccd3cb6",
   "metadata": {},
   "outputs": [
    {
     "name": "stderr",
     "output_type": "stream",
     "text": [
      "C:\\Users\\talk2_000\\anaconda3\\lib\\site-packages\\sklearn\\utils\\validation.py:63: DataConversionWarning: A column-vector y was passed when a 1d array was expected. Please change the shape of y to (n_samples, ), for example using ravel().\n",
      "  return f(*args, **kwargs)\n"
     ]
    }
   ],
   "source": [
    "s1 = SVC(kernel = \"poly\", C = 1.0, degree = 2)\n",
    "s1.fit(xtrain, ytrain)\n",
    "\n",
    "ytrain = pd.DataFrame(ytrain)\n",
    "ytest = pd.DataFrame(ytest)"
   ]
  },
  {
   "cell_type": "code",
   "execution_count": 11,
   "id": "2cdc0093",
   "metadata": {},
   "outputs": [
    {
     "name": "stdout",
     "output_type": "stream",
     "text": [
      "\n",
      "SVM Polynomial kernel Classifier - Train Confusion Matrix\n",
      "\n",
      " Predicted   1    2    3    4    5    6    7    8    9    10  ...   17   18  \\\n",
      "Actual                                                       ...             \n",
      "1          541    0    0    2    0    0    2    0    0    1  ...    0    1   \n",
      "2            2  493    0    4    4    0    4    4    0    1  ...    0   17   \n",
      "3            0    0  486    0   13    0   12    0    0    0  ...    0    0   \n",
      "4            1   15    0  511    0    1    0    5    0    0  ...    0    7   \n",
      "5            0    6    1    0  469    2   21    0    1    0  ...    4    4   \n",
      "6            0    2    0    4    6  520    4    2    2    4  ...    0    0   \n",
      "7            1    1   14   12    2    3  484    2    0    0  ...    5    3   \n",
      "8            0   12    6   25    0    4    7  416    0    0  ...    6   23   \n",
      "9            1    1    3    6    0    4    0    0  486   14  ...    0    0   \n",
      "10           2    0    0    5    0    0    0    1   15  481  ...    0    0   \n",
      "11           0    2    2    6    3    0    1    4    0    0  ...    1   27   \n",
      "12           1    2    4    0   13    0   10    5    0    0  ...    1    0   \n",
      "13           2    5    0    0    0    0    2    3    0    0  ...    0    2   \n",
      "14           0    2    0    6    0    0    0    3    0    0  ...    0    2   \n",
      "15           3    0    0   11    0    0    2    1    0    0  ...   10    9   \n",
      "16           0    3    0    2    3   27    9    1    0    1  ...    2    1   \n",
      "17           5    5    0    0    3    0    7    0    0    1  ...  496    1   \n",
      "18           1   15    0    7    0    0    5    6    0    0  ...    1  471   \n",
      "19           3   17    3    1   11   12    6    0    2    1  ...    4    1   \n",
      "20           1    0    0    2    5    3    6    9    0    0  ...    1    1   \n",
      "21           1    0    0    0    0    0    0    5    0    0  ...    0    0   \n",
      "22           5    7    0    0    0    0    2    4    0    0  ...    0    4   \n",
      "23           0    0    0    0    0    0    1    2    0    0  ...    0    0   \n",
      "24           0    2    0    4    5    0    1    1    5    3  ...    1    2   \n",
      "25           1    0    0    2    0    1    0    1    0    0  ...    0    0   \n",
      "26           1    0    0    1    6    1    0    0    0    6  ...    4    0   \n",
      "\n",
      "Predicted   19   20   21   22   23   24   25   26  \n",
      "Actual                                             \n",
      "1            1    0    2    0    0    0    3    0  \n",
      "2            4    0    0    1    0    2    0    0  \n",
      "3            0    1    1    0    0    0    0    0  \n",
      "4            1    0    1    0    0    0    0    0  \n",
      "5            5    2    0    0    0    3    0    5  \n",
      "6            6    6    0    0    0    1    1    0  \n",
      "7            0    0    0    1    2    0    0    0  \n",
      "8            0    1    1    1    0    2    0    0  \n",
      "9            9    0    0    0    0    5    0    4  \n",
      "10           7    0    0    0    0    1    0    3  \n",
      "11           1    1    1    0    1   10    0    0  \n",
      "12           8    0    0    0    0    6    0    0  \n",
      "13           0    0    2    0    5    0    0    0  \n",
      "14           0    0    0    1    0    0    0    0  \n",
      "15           0    0    2    0    9    0    0    0  \n",
      "16           0    0    0    0    0    0    7    0  \n",
      "17           3    0    0    0    0    0    1    1  \n",
      "18           0    0    0    0    0    1    0    0  \n",
      "19         437    2    0    0    0    3    0    5  \n",
      "20           6  511    0    0    0    3    5    4  \n",
      "21           0    0  532    0    5    0    0    0  \n",
      "22           0    1    0  487   11    0    6    0  \n",
      "23           0    0    1    0  521    0    0    0  \n",
      "24           0    1    1    0    0  505    0    1  \n",
      "25           1    2    2    4    1    2  517    0  \n",
      "26          19    1    0    0    0    1    0  481  \n",
      "\n",
      "[26 rows x 26 columns]\n"
     ]
    }
   ],
   "source": [
    "print(\"\\nSVM Polynomial kernel Classifier - Train Confusion Matrix\\n\\n\", pd.crosstab(ytrain[\"letter\"], s1.predict(xtrain), rownames = [\"Actual\"], colnames = [\"Predicted\"]))"
   ]
  },
  {
   "cell_type": "code",
   "execution_count": 12,
   "id": "81a9c2f0",
   "metadata": {},
   "outputs": [
    {
     "name": "stdout",
     "output_type": "stream",
     "text": [
      "\n",
      "SVM Polynomial kernel Classifier - Train Accuracy:  0.916\n"
     ]
    }
   ],
   "source": [
    "print(\"\\nSVM Polynomial kernel Classifier - Train Accuracy: \", round(accuracy_score(ytrain[\"letter\"], s1.predict(xtrain)), 3))"
   ]
  },
  {
   "cell_type": "code",
   "execution_count": 13,
   "id": "faf22ad9",
   "metadata": {},
   "outputs": [
    {
     "name": "stdout",
     "output_type": "stream",
     "text": [
      "\n",
      "SVM Polynomial Kernel Classifier - Train Classification Report\n",
      ":                precision    recall  f1-score   support\n",
      "\n",
      "           1       0.93      0.97      0.95       557\n",
      "           2       0.82      0.90      0.86       537\n",
      "           3       0.89      0.91      0.90       535\n",
      "           4       0.82      0.92      0.87       555\n",
      "           5       0.81      0.84      0.83       530\n",
      "           6       0.84      0.89      0.86       564\n",
      "           7       0.76      0.80      0.78       543\n",
      "           8       0.75      0.71      0.73       516\n",
      "           9       0.92      0.88      0.90       534\n",
      "          10       0.89      0.90      0.90       519\n",
      "          11       0.84      0.84      0.84       551\n",
      "          12       0.91      0.89      0.90       530\n",
      "          13       0.93      0.92      0.93       540\n",
      "          14       0.94      0.93      0.94       552\n",
      "          15       0.89      0.78      0.83       535\n",
      "          16       0.96      0.89      0.92       555\n",
      "          17       0.88      0.84      0.86       530\n",
      "          18       0.81      0.85      0.82       524\n",
      "          19       0.75      0.73      0.74       513\n",
      "          20       0.92      0.90      0.91       564\n",
      "          21       0.95      0.94      0.94       552\n",
      "          22       0.92      0.92      0.92       527\n",
      "          23       0.93      0.95      0.94       539\n",
      "          24       0.89      0.89      0.89       542\n",
      "          25       0.94      0.91      0.92       535\n",
      "          26       0.90      0.84      0.87       521\n",
      "\n",
      "    accuracy                           0.88     14000\n",
      "   macro avg       0.88      0.87      0.88     14000\n",
      "weighted avg       0.88      0.88      0.88     14000\n",
      "\n"
     ]
    }
   ],
   "source": [
    "print(\"\\nSVM Polynomial Kernel Classifier - Train Classification Report\\n: \", classification_report(ytrain[\"letter\"], s.predict(xtrain)))"
   ]
  },
  {
   "cell_type": "code",
   "execution_count": 14,
   "id": "3a5c0f86",
   "metadata": {},
   "outputs": [
    {
     "name": "stdout",
     "output_type": "stream",
     "text": [
      "\n",
      "SVM Polynomial kernel Classifier - Test Confusion Matrix\n",
      "\n",
      " Predicted   1    2    3    4    5    6    7    8    9    10  ...   17   18  \\\n",
      "Actual                                                       ...             \n",
      "1          224    1    1    1    0    0    1    0    0    1  ...    0    0   \n",
      "2            1  205    0    2    1    0    0    2    0    0  ...    0   13   \n",
      "3            0    0  172    0    5    0    8    1    0    0  ...    0    0   \n",
      "4            0    8    0  231    0    0    0    1    0    0  ...    0    2   \n",
      "5            0    2    1    0  215    0   10    0    0    0  ...    2    0   \n",
      "6            0    0    1    1    2  195    1    0    3    2  ...    0    0   \n",
      "7            1    1    5    7    1    2  199    0    0    0  ...    4    2   \n",
      "8            0    6    1   12    0    1    2  160    0    0  ...    5   15   \n",
      "9            0    0    0    4    0    3    1    0  190   12  ...    0    0   \n",
      "10           1    0    0    2    0    3    0    2    7  206  ...    1    0   \n",
      "11           0    1    2    3    1    0    0    2    0    0  ...    0   20   \n",
      "12           0    1    2    0    8    0    4    1    0    0  ...    1    1   \n",
      "13           2    1    0    0    0    0    0    0    0    0  ...    0    3   \n",
      "14           2    1    1    2    0    0    0    2    0    0  ...    0    3   \n",
      "15           2    0    1    6    0    0    0    0    0    1  ...    5    1   \n",
      "16           0    1    0    1    0   20   10    0    0    0  ...    0    0   \n",
      "17           2    4    1    3    4    0    3    0    0    0  ...  230    0   \n",
      "18           1    3    1    4    0    0    2    6    0    0  ...    0  207   \n",
      "19           0    9    0    0    7    0    5    0    0    0  ...    3    0   \n",
      "20           0    0    0    0    1    2    1    2    0    0  ...    0    2   \n",
      "21           1    0    0    0    0    0    0    0    0    0  ...    0    0   \n",
      "22           1    2    0    0    0    1    1    2    0    0  ...    0    0   \n",
      "23           0    0    0    0    0    0    0    0    0    0  ...    0    0   \n",
      "24           0    1    0    3    0    1    0    0    0    0  ...    0    1   \n",
      "25           1    0    0    0    0    0    0    0    0    0  ...    0    0   \n",
      "26           1    0    0    0    3    0    0    0    0    3  ...    1    0   \n",
      "\n",
      "Predicted   19   20   21   22   23   24   25   26  \n",
      "Actual                                             \n",
      "1            0    0    1    0    0    1    0    0  \n",
      "2            0    0    0    3    0    0    0    0  \n",
      "3            0    0    2    0    0    0    0    0  \n",
      "4            0    0    0    0    0    0    0    0  \n",
      "5            3    1    1    0    0    1    0    2  \n",
      "6            0    4    0    0    0    0    0    0  \n",
      "7            1    0    0    3    0    0    0    0  \n",
      "8            0    0    1    0    0    1    1    0  \n",
      "9            5    0    0    0    0    4    0    1  \n",
      "10           2    0    1    0    0    0    0    3  \n",
      "11           0    0    0    0    0    3    0    0  \n",
      "12           3    0    0    0    0    1    0    0  \n",
      "13           0    0    1    1    6    0    0    0  \n",
      "14           0    0    0    0    1    0    0    0  \n",
      "15           0    0    1    1    5    0    0    0  \n",
      "16           0    0    0    1    0    0    4    0  \n",
      "17           1    0    0    0    1    0    0    1  \n",
      "18           0    0    0    1    0    0    0    0  \n",
      "19         204    1    0    0    0    0    0    4  \n",
      "20           1  213    1    0    0    2    1    4  \n",
      "21           0    0  243    0    4    0    0    0  \n",
      "22           0    0    0  223    3    0    1    0  \n",
      "23           0    0    2    1  205    0    0    0  \n",
      "24           0    0    1    0    0  227    2    1  \n",
      "25           0    3    0    2    0    2  243    0  \n",
      "26          14    0    0    0    0    0    0  191  \n",
      "\n",
      "[26 rows x 26 columns]\n"
     ]
    }
   ],
   "source": [
    "print(\"\\nSVM Polynomial kernel Classifier - Test Confusion Matrix\\n\\n\", pd.crosstab(ytest[\"letter\"], s1.predict(xtest), rownames = [\"Actual\"], colnames = [\"Predicted\"]))"
   ]
  },
  {
   "cell_type": "code",
   "execution_count": 15,
   "id": "59b6db2d",
   "metadata": {},
   "outputs": [
    {
     "name": "stdout",
     "output_type": "stream",
     "text": [
      "\n",
      "SVM Polynomial kernel Classifier - Test Accuracy:  0.9\n"
     ]
    }
   ],
   "source": [
    "print(\"\\nSVM Polynomial kernel Classifier - Test Accuracy: \", round(accuracy_score(ytest[\"letter\"], s1.predict(xtest)), 3))"
   ]
  },
  {
   "cell_type": "code",
   "execution_count": 16,
   "id": "cd04cf45",
   "metadata": {},
   "outputs": [
    {
     "name": "stdout",
     "output_type": "stream",
     "text": [
      "\n",
      "SVM Polynomial Kernel Classifier - Test Classification Report\n",
      ":                precision    recall  f1-score   support\n",
      "\n",
      "           1       0.87      0.94      0.90       232\n",
      "           2       0.80      0.86      0.83       229\n",
      "           3       0.86      0.86      0.86       201\n",
      "           4       0.77      0.89      0.83       250\n",
      "           5       0.81      0.88      0.84       238\n",
      "           6       0.81      0.89      0.85       211\n",
      "           7       0.74      0.75      0.74       230\n",
      "           8       0.70      0.63      0.67       218\n",
      "           9       0.89      0.85      0.87       221\n",
      "          10       0.85      0.85      0.85       228\n",
      "          11       0.77      0.79      0.78       188\n",
      "          12       0.93      0.88      0.90       231\n",
      "          13       0.95      0.93      0.94       252\n",
      "          14       0.91      0.90      0.91       231\n",
      "          15       0.86      0.79      0.82       218\n",
      "          16       0.97      0.83      0.89       248\n",
      "          17       0.84      0.77      0.81       253\n",
      "          18       0.74      0.82      0.78       234\n",
      "          19       0.73      0.72      0.73       235\n",
      "          20       0.90      0.89      0.89       232\n",
      "          21       0.94      0.90      0.92       261\n",
      "          22       0.89      0.93      0.91       237\n",
      "          23       0.89      0.94      0.91       213\n",
      "          24       0.91      0.88      0.89       245\n",
      "          25       0.94      0.88      0.91       251\n",
      "          26       0.84      0.82      0.83       213\n",
      "\n",
      "    accuracy                           0.85      6000\n",
      "   macro avg       0.85      0.85      0.85      6000\n",
      "weighted avg       0.85      0.85      0.85      6000\n",
      "\n"
     ]
    }
   ],
   "source": [
    "print(\"\\nSVM Polynomial Kernel Classifier - Test Classification Report\\n: \", classification_report(ytest[\"letter\"], s.predict(xtest)))"
   ]
  },
  {
   "cell_type": "code",
   "execution_count": 17,
   "id": "858bb387",
   "metadata": {},
   "outputs": [
    {
     "name": "stderr",
     "output_type": "stream",
     "text": [
      "C:\\Users\\talk2_000\\anaconda3\\lib\\site-packages\\sklearn\\utils\\validation.py:63: DataConversionWarning: A column-vector y was passed when a 1d array was expected. Please change the shape of y to (n_samples, ), for example using ravel().\n",
      "  return f(*args, **kwargs)\n"
     ]
    }
   ],
   "source": [
    "s2 = SVC(kernel = \"rbf\", C = 1.0, gamma = 0.1)\n",
    "s2.fit(xtrain, ytrain)\n",
    "\n",
    "ytrain = pd.DataFrame(ytrain)\n",
    "ytest = pd.DataFrame(ytest)"
   ]
  },
  {
   "cell_type": "code",
   "execution_count": 18,
   "id": "a716b811",
   "metadata": {},
   "outputs": [
    {
     "name": "stdout",
     "output_type": "stream",
     "text": [
      "\n",
      "SVM RBF kernel Classifier - Train Confusion Matrix\n",
      "\n",
      " Predicted   1    2    3    4    5    6    7    8    9    10  ...   17   18  \\\n",
      "Actual                                                       ...             \n",
      "1          557    0    0    0    0    0    0    0    0    0  ...    0    0   \n",
      "2            0  535    0    0    0    0    0    0    0    0  ...    0    0   \n",
      "3            0    0  535    0    0    0    0    0    0    0  ...    0    0   \n",
      "4            0    0    0  553    0    0    0    2    0    0  ...    0    0   \n",
      "5            0    0    0    0  527    0    3    0    0    0  ...    0    0   \n",
      "6            0    0    0    0    0  563    0    0    0    0  ...    0    0   \n",
      "7            0    0    0    1    1    0  541    0    0    0  ...    0    0   \n",
      "8            0    0    0    1    0    0    1  512    0    0  ...    0    1   \n",
      "9            0    0    0    0    0    0    0    0  530    4  ...    0    0   \n",
      "10           0    0    0    0    0    0    0    0    2  517  ...    0    0   \n",
      "11           0    0    0    0    0    0    0    0    0    0  ...    0    2   \n",
      "12           0    0    0    0    1    0    0    0    0    0  ...    0    0   \n",
      "13           0    0    0    0    0    0    0    0    0    0  ...    0    0   \n",
      "14           0    0    0    0    0    0    0    1    0    0  ...    0    0   \n",
      "15           0    0    1    0    0    0    0    0    0    0  ...    0    0   \n",
      "16           0    0    0    0    0    5    0    0    0    0  ...    0    0   \n",
      "17           0    0    0    0    0    0    0    0    0    0  ...  530    0   \n",
      "18           0    2    0    0    0    0    0    0    0    0  ...    0  522   \n",
      "19           0    0    0    0    0    0    0    0    0    0  ...    0    0   \n",
      "20           0    0    0    0    0    0    0    0    0    0  ...    0    0   \n",
      "21           0    0    0    0    0    0    0    0    0    0  ...    0    0   \n",
      "22           0    0    0    0    0    0    0    0    0    0  ...    0    0   \n",
      "23           0    0    0    0    0    0    0    0    0    0  ...    0    0   \n",
      "24           0    0    0    0    0    0    0    0    0    0  ...    0    0   \n",
      "25           0    0    0    0    0    0    0    0    0    0  ...    0    0   \n",
      "26           0    0    0    0    0    0    0    0    0    0  ...    0    0   \n",
      "\n",
      "Predicted   19   20   21   22   23   24   25   26  \n",
      "Actual                                             \n",
      "1            0    0    0    0    0    0    0    0  \n",
      "2            0    0    0    2    0    0    0    0  \n",
      "3            0    0    0    0    0    0    0    0  \n",
      "4            0    0    0    0    0    0    0    0  \n",
      "5            0    0    0    0    0    0    0    0  \n",
      "6            0    0    0    1    0    0    0    0  \n",
      "7            0    0    0    0    0    0    0    0  \n",
      "8            0    0    1    0    0    0    0    0  \n",
      "9            0    0    0    0    0    0    0    0  \n",
      "10           0    0    0    0    0    0    0    0  \n",
      "11           0    0    0    0    0    0    0    0  \n",
      "12           0    0    0    0    0    0    0    0  \n",
      "13           0    0    0    0    0    0    0    0  \n",
      "14           0    0    0    0    0    0    0    0  \n",
      "15           0    0    0    0    0    0    0    0  \n",
      "16           0    0    0    0    0    0    0    0  \n",
      "17           0    0    0    0    0    0    0    0  \n",
      "18           0    0    0    0    0    0    0    0  \n",
      "19         513    0    0    0    0    0    0    0  \n",
      "20           0  563    0    0    0    0    1    0  \n",
      "21           0    0  552    0    0    0    0    0  \n",
      "22           0    0    0  526    0    0    0    0  \n",
      "23           0    0    0    0  539    0    0    0  \n",
      "24           0    0    0    0    0  542    0    0  \n",
      "25           0    0    0    0    0    0  535    0  \n",
      "26           0    0    0    0    0    0    0  521  \n",
      "\n",
      "[26 rows x 26 columns]\n"
     ]
    }
   ],
   "source": [
    "print(\"\\nSVM RBF kernel Classifier - Train Confusion Matrix\\n\\n\", pd.crosstab(ytrain[\"letter\"], s2.predict(xtrain), rownames = [\"Actual\"], colnames = [\"Predicted\"]))"
   ]
  },
  {
   "cell_type": "code",
   "execution_count": 19,
   "id": "a68cca4f",
   "metadata": {},
   "outputs": [
    {
     "name": "stdout",
     "output_type": "stream",
     "text": [
      "\n",
      "SVM RBF kernel Classifier - Train Accuracy:  0.998\n"
     ]
    }
   ],
   "source": [
    "print(\"\\nSVM RBF kernel Classifier - Train Accuracy: \", round(accuracy_score(ytrain[\"letter\"], s2.predict(xtrain)), 3))"
   ]
  },
  {
   "cell_type": "code",
   "execution_count": 20,
   "id": "50b6f2d4",
   "metadata": {},
   "outputs": [
    {
     "name": "stdout",
     "output_type": "stream",
     "text": [
      "\n",
      "SVM RBF Kernel Classifier - Train Classification Report\n",
      ":                precision    recall  f1-score   support\n",
      "\n",
      "           1       1.00      1.00      1.00       557\n",
      "           2       1.00      1.00      1.00       537\n",
      "           3       1.00      1.00      1.00       535\n",
      "           4       1.00      1.00      1.00       555\n",
      "           5       1.00      0.99      1.00       530\n",
      "           6       0.99      1.00      0.99       564\n",
      "           7       0.99      1.00      0.99       543\n",
      "           8       0.99      0.99      0.99       516\n",
      "           9       1.00      0.99      0.99       534\n",
      "          10       0.99      1.00      0.99       519\n",
      "          11       1.00      1.00      1.00       551\n",
      "          12       1.00      1.00      1.00       530\n",
      "          13       1.00      1.00      1.00       540\n",
      "          14       1.00      1.00      1.00       552\n",
      "          15       1.00      1.00      1.00       535\n",
      "          16       1.00      0.99      1.00       555\n",
      "          17       1.00      1.00      1.00       530\n",
      "          18       0.99      1.00      1.00       524\n",
      "          19       1.00      1.00      1.00       513\n",
      "          20       1.00      1.00      1.00       564\n",
      "          21       1.00      1.00      1.00       552\n",
      "          22       0.99      1.00      1.00       527\n",
      "          23       1.00      1.00      1.00       539\n",
      "          24       1.00      1.00      1.00       542\n",
      "          25       1.00      1.00      1.00       535\n",
      "          26       1.00      1.00      1.00       521\n",
      "\n",
      "    accuracy                           1.00     14000\n",
      "   macro avg       1.00      1.00      1.00     14000\n",
      "weighted avg       1.00      1.00      1.00     14000\n",
      "\n"
     ]
    }
   ],
   "source": [
    "print(\"\\nSVM RBF Kernel Classifier - Train Classification Report\\n: \", classification_report(ytrain[\"letter\"], s2.predict(xtrain)))"
   ]
  },
  {
   "cell_type": "code",
   "execution_count": 21,
   "id": "5095d2b0",
   "metadata": {},
   "outputs": [
    {
     "name": "stdout",
     "output_type": "stream",
     "text": [
      "\n",
      "SVM RBF kernel Classifier - Test Confusion Matrix\n",
      "\n",
      " Predicted   1    2    3    4    5    6    7    8    9    10  ...   17   18  \\\n",
      "Actual                                                       ...             \n",
      "1          232    0    0    0    0    0    0    0    0    0  ...    0    0   \n",
      "2            0  223    0    1    0    0    1    1    0    0  ...    0    0   \n",
      "3            0    0  187    0    2    0    2    0    0    0  ...    0    0   \n",
      "4            0    0    0  242    0    0    0    4    0    0  ...    0    0   \n",
      "5            0    0    2    0  233    0    1    0    0    0  ...    0    0   \n",
      "6            0    0    0    0    0  206    0    0    0    0  ...    0    0   \n",
      "7            0    1    0    3    1    0  221    0    0    0  ...    0    0   \n",
      "8            0    5    1    3    0    0    2  190    0    0  ...    0    6   \n",
      "9            0    0    0    0    0    0    0    0  210   10  ...    0    0   \n",
      "10           0    0    0    0    0    1    0    1    4  220  ...    0    0   \n",
      "11           0    0    0    0    0    0    0    1    0    0  ...    0    8   \n",
      "12           0    0    0    0    1    0    1    0    0    0  ...    0    2   \n",
      "13           0    1    0    0    0    0    0    0    0    0  ...    0    0   \n",
      "14           1    0    0    0    0    0    0    1    0    0  ...    0    7   \n",
      "15           0    0    0    4    0    0    0    0    0    1  ...    2    0   \n",
      "16           0    0    0    0    0    7    1    0    0    0  ...    0    1   \n",
      "17           0    0    0    1    0    0    0    0    0    0  ...  246    1   \n",
      "18           0    4    0    1    0    0    0    2    0    0  ...    0  224   \n",
      "19           0    1    0    0    1    0    0    0    0    0  ...    0    0   \n",
      "20           0    0    0    0    0    0    0    0    0    0  ...    0    0   \n",
      "21           0    0    0    0    0    0    0    2    0    0  ...    0    0   \n",
      "22           0    4    0    0    0    1    0    0    0    0  ...    0    0   \n",
      "23           0    0    0    0    0    0    0    0    0    0  ...    0    0   \n",
      "24           0    0    0    0    0    0    0    0    0    0  ...    0    1   \n",
      "25           2    0    0    0    0    0    0    0    0    0  ...    0    0   \n",
      "26           0    0    0    0    0    0    0    0    0    0  ...    1    1   \n",
      "\n",
      "Predicted   19   20   21   22   23   24   25   26  \n",
      "Actual                                             \n",
      "1            0    0    0    0    0    0    0    0  \n",
      "2            0    0    0    3    0    0    0    0  \n",
      "3            0    1    0    1    2    0    0    0  \n",
      "4            1    0    0    0    0    0    0    0  \n",
      "5            0    0    0    0    0    0    0    1  \n",
      "6            0    2    0    0    0    1    0    0  \n",
      "7            1    0    0    1    0    0    0    0  \n",
      "8            0    0    0    0    0    0    0    0  \n",
      "9            0    0    0    0    0    1    0    0  \n",
      "10           0    0    1    0    0    0    0    0  \n",
      "11           0    0    0    0    0    2    0    0  \n",
      "12           0    0    0    0    0    0    0    0  \n",
      "13           0    0    0    0    0    0    0    0  \n",
      "14           0    0    0    1    0    0    0    0  \n",
      "15           0    0    0    0    0    0    0    0  \n",
      "16           0    0    0    0    0    0    0    0  \n",
      "17           0    0    0    0    0    0    2    0  \n",
      "18           0    0    0    0    0    0    0    0  \n",
      "19         232    0    0    0    0    0    0    0  \n",
      "20           0  230    0    0    0    1    1    0  \n",
      "21           0    0  258    0    0    0    0    0  \n",
      "22           0    0    0  229    1    0    0    0  \n",
      "23           0    0    0    0  212    0    0    0  \n",
      "24           1    1    0    0    0  236    1    0  \n",
      "25           0    1    0    0    0    0  248    0  \n",
      "26           0    0    0    0    0    0    0  210  \n",
      "\n",
      "[26 rows x 26 columns]\n"
     ]
    }
   ],
   "source": [
    "print(\"\\nSVM RBF kernel Classifier - Test Confusion Matrix\\n\\n\", pd.crosstab(ytest[\"letter\"], s2.predict(xtest), rownames = [\"Actual\"], colnames = [\"Predicted\"]))"
   ]
  },
  {
   "cell_type": "code",
   "execution_count": 22,
   "id": "6eaa412c",
   "metadata": {},
   "outputs": [
    {
     "name": "stdout",
     "output_type": "stream",
     "text": [
      "\n",
      "SVM RBF kernel Classifier - Test Accuracy:  0.969\n"
     ]
    }
   ],
   "source": [
    "print(\"\\nSVM RBF kernel Classifier - Test Accuracy: \", round(accuracy_score(ytest[\"letter\"], s2.predict(xtest)), 3))"
   ]
  },
  {
   "cell_type": "code",
   "execution_count": 23,
   "id": "046ee472",
   "metadata": {},
   "outputs": [
    {
     "name": "stdout",
     "output_type": "stream",
     "text": [
      "\n",
      "SVM RBF Kernel Classifier - Test Classification Report\n",
      ":                precision    recall  f1-score   support\n",
      "\n",
      "           1       0.99      1.00      0.99       232\n",
      "           2       0.93      0.97      0.95       229\n",
      "           3       0.98      0.93      0.96       201\n",
      "           4       0.95      0.97      0.96       250\n",
      "           5       0.98      0.98      0.98       238\n",
      "           6       0.96      0.98      0.97       211\n",
      "           7       0.97      0.96      0.96       230\n",
      "           8       0.94      0.87      0.90       218\n",
      "           9       0.98      0.95      0.97       221\n",
      "          10       0.95      0.96      0.96       228\n",
      "          11       0.93      0.94      0.93       188\n",
      "          12       0.99      0.98      0.98       231\n",
      "          13       0.96      1.00      0.98       252\n",
      "          14       0.99      0.95      0.97       231\n",
      "          15       0.94      0.97      0.95       218\n",
      "          16       0.99      0.96      0.97       248\n",
      "          17       0.99      0.97      0.98       253\n",
      "          18       0.89      0.96      0.92       234\n",
      "          19       0.99      0.99      0.99       235\n",
      "          20       0.98      0.99      0.99       232\n",
      "          21       1.00      0.99      0.99       261\n",
      "          22       0.97      0.97      0.97       237\n",
      "          23       0.99      1.00      0.99       213\n",
      "          24       0.98      0.96      0.97       245\n",
      "          25       0.98      0.99      0.99       251\n",
      "          26       1.00      0.99      0.99       213\n",
      "\n",
      "    accuracy                           0.97      6000\n",
      "   macro avg       0.97      0.97      0.97      6000\n",
      "weighted avg       0.97      0.97      0.97      6000\n",
      "\n"
     ]
    }
   ],
   "source": [
    "print(\"\\nSVM RBF Kernel Classifier - Test Classification Report\\n: \", classification_report(ytest[\"letter\"], s2.predict(xtest)))"
   ]
  },
  {
   "cell_type": "code",
   "execution_count": null,
   "id": "0495480f",
   "metadata": {},
   "outputs": [],
   "source": []
  },
  {
   "cell_type": "code",
   "execution_count": null,
   "id": "e88103c6",
   "metadata": {},
   "outputs": [],
   "source": []
  }
 ],
 "metadata": {
  "kernelspec": {
   "display_name": "Python 3",
   "language": "python",
   "name": "python3"
  },
  "language_info": {
   "codemirror_mode": {
    "name": "ipython",
    "version": 3
   },
   "file_extension": ".py",
   "mimetype": "text/x-python",
   "name": "python",
   "nbconvert_exporter": "python",
   "pygments_lexer": "ipython3",
   "version": "3.8.8"
  }
 },
 "nbformat": 4,
 "nbformat_minor": 5
}
